{
 "cells": [
  {
   "cell_type": "code",
   "execution_count": null,
   "id": "9f2276e8",
   "metadata": {},
   "outputs": [],
   "source": [
    "import pandas as pd\n",
    "import requests\n",
    "from io import StringIO\n",
    "import matplotlib.pyplot as plt\n",
    "import seaborn as sns\n",
    "import ipywidgets as widgets\n",
    "from IPython.display import display, clear_output\n",
    "import matplotlib.backends.backend_pdf\n",
    "\n",
    "%matplotlib inline\n",
    "\n",
    "df_to_export = None\n",
    "last_fig = None"
   ]
  },
  {
   "cell_type": "code",
   "execution_count": 13,
   "id": "044a25c6",
   "metadata": {},
   "outputs": [
    {
     "name": "stdout",
     "output_type": "stream",
     "text": [
      "Fetching data from USDA ...\n",
      "Data loaded:  317222 rows.\n"
     ]
    }
   ],
   "source": [
    "USDA_URL = \"https://fems.fs2c.usda.gov/fuelmodel/sample/download?returnAll=&responseFormat=csv&siteId=All&sampleId=&startDate=2005-01-01T00:00:00.000Z&endDate=2025-12-31T23:00:00.000Z&filterByFuelId=&filterByStatus=Submitted&filterByCategory=All&filterBySubCategory=All&filterByMethod=All&sortBy=fuel_type&sortOrder=asc\"\n",
    "\n",
    "print(\"Fetching data from USDA ...\")\n",
    "response = requests.get(USDA_URL)\n",
    "df = pd.read_csv(StringIO(response.text))\n",
    "\n",
    "df. columns = [\"Sample_Id\", \"Date-Time\", \"Site Name\", \"SiteId\", \n",
    "               \"Fuel Type\", \"Category\", \"Sub-Category\", \"Method\",\n",
    "               \"SampleAvg Value\", \"Sample Status\"]\n",
    "\n",
    "df[\"Date-Time\"] = pd.to_datetime(df[\"Date-Time\"], errors=\"coerce\")\n",
    "df = df[df[\"Date-Time\"].notnull()]\n",
    "df[\"Date-Time\"] = df[\"Date-Time\"].apply(lambda x: x.replace(tzinfo=None) if x.tzinfo else x)\n",
    "\n",
    "desired_categories = [\"Grass\", \"Forbs\", \"Shrubs\", \"Trees\", \"Dead\"]\n",
    "existing_categories = df[\"Category\"].dropna().unique().tolist()\n",
    "missing_categories = [cat for cat in desired_categories if cat not in df['Category'].unique()]\n",
    "\n",
    "default_date = pd.Timestamp(\"2005-01-01\")\n",
    "for cat in missing_categories:\n",
    "    df = pd.concat([df, pd.DataFrame([{\n",
    "    \"Sample_Id\": None,\n",
    "    \"Date-Time\": default_date,\n",
    "    \"Site Name\": \"Placeholder Site\",\n",
    "    \"SiteId\": None,\n",
    "    \"Fuel Type\": \"Placeholder\",\n",
    "    \"Category\": cat,\n",
    "    \"Sub-Category\": None,\n",
    "    \"Method\": None,\n",
    "    \"SampleAvg Value\": None,\n",
    "    \"Sample Status\": None,\n",
    "    }])])\n",
    "    \n",
    "    \n",
    "print(f\"Data loaded:  {len(df)} rows.\")\n",
    "               \n",
    "               "
   ]
  },
  {
   "cell_type": "code",
   "execution_count": 14,
   "id": "2d446d9f",
   "metadata": {},
   "outputs": [],
   "source": [
    "\n",
    "site_selector = widgets.SelectMultiple(options=sorted(df['Site Name'].dropna().unique()), description='Sites:', layout=widgets.Layout(width='50%'))\n",
    "category_selector = widgets.SelectMultiple(options=desired_categories, description='Categories:', layout=widgets.Layout(width='50%'))                                     \n",
    "fuel_selector = widgets.SelectMultiple(options=sorted(df['Fuel Type'].dropna().unique()), description='Fuel Types:', layout=widgets.Layout(width='50%'))\n",
    "    \n",
    "years = sorted(df['Date-Time'].dt.year.unique())\n",
    "months = list(range(1, 13))\n",
    "\n",
    "current_year = widgets.Dropdown(options=years[::-1], description='Current Year:')\n",
    "history_years = widgets.SelectMultiple(options=years, description='Historical Years:')\n",
    "select_all_checkbox = widgets.Checkbox(value=False, description=\"Use all Historical Years\")\n",
    "overlay_checkbox = widgets.Checkbox(value=True, description=\"Overlay Historical Data\")\n",
    "month_selector = widgets.SelectMultiple(options=months, value=list(months), description='Months:')\n",
    "\n",
    "export_button = widgets.Button(description=\"Export CSV\", button_style=\"success\")\n",
    "pdf_button = widgets.Button(description=\"Export PDF\", button_style='info')\n",
    "png_button = widgets.Button(description=\"Export PNG\", button_style='warning')\n",
    "\n",
    "output = widgets.Output()"
   ]
  },
  {
   "cell_type": "code",
   "execution_count": 16,
   "id": "9808e80a",
   "metadata": {},
   "outputs": [],
   "source": [
    "from datetime import datetime\n",
    "\n",
    "def update_dashboard(change=None):\n",
    "    global df_to_export, last_fig\n",
    "    with output:\n",
    "        clear_output(wait=True)\n",
    "        \n",
    "                  \n",
    "        filtered_df = df.copy()\n",
    "        if site_selector.value:\n",
    "            filtered_df = filtered_df[filtered_df['Site Name'].isin(site_selector.value)]\n",
    "        if category_selector.value:\n",
    "            filtered_df = filtered_df[filtered_df['Category'].isin(category_selector.value)]\n",
    "        if fuel_selector.value:\n",
    "            filtered_df = filtered_df[filtered_df['Fuel Type'].isin(fuel_selector.value)]\n",
    "            \n",
    "        filtered_df['Month'] = filtered_df['Date-Time'].dt.month\n",
    "        filtered_df = filtered_df[filtered_df['Month'].isin(month_selector.value)]\n",
    "        filtered_df['Year'] = filtered_df['Date-Time'].dt.year\n",
    "        \n",
    "        def to_half_month(dt):\n",
    "            return datetime(2000, dt.month, 1 if dt.day <=14 else 15)\n",
    "        filtered_df['AlignDate'] = filtered_df['Date-Time'].apply(to_half_month)\n",
    "        \n",
    "        current = filtered_df[filtered_df['Year'] == current_year.value]\n",
    "        hist_years_selected = list(history_years.option) if select_all_checkbox.value else list(history_years.value)\n",
    "        hist_years_selected = [y for y in hist_years_selected if y != current_year.value]\n",
    "        historical = filtered_df[filtered_df['Year'].isin(hist_years_selected)]\n",
    "        \n",
    "        if current.empty:\n",
    "            print(\"No data available for selected filters or years.\")\n",
    "            return\n",
    "        \n",
    "        \n",
    "        cur_summary = current.groupby(['AlignDate','Category'])[\"SampleAvg Value\"].mean().reset_index(name='Current')\n",
    "        if overlay_checkbox.value and not historical.empty:\n",
    "            hist_stats = historical.groupby(['AlignDate','Category'])['SampleAvg Value'].agg(\n",
    "                Avg='mean', Min='min', Max='max').reset_index()\n",
    "            \n",
    "        else:\n",
    "            hist_stats = pd.DataFrame()\n",
    "        \n",
    "        categories = cur_summary['Category'].unique()\n",
    "        palette = sns.color_palette(\"tab10\", n_colors=len(categories))\n",
    "        color_map = dict(zip(categories, palette))\n",
    "        fig, axes = plt.subplots(len(categories), 1, figsize=(16, 5 * len(categories)), sharex=True)\n",
    "        if len(categories) == 1:\n",
    "            axes = [axes]\n",
    "        \n",
    "        month_ticks = pd.date_range(start='2000-01-01', periods=12, freq='MS')\n",
    "        \n",
    "        site_names = ','.join(site_selector.value) if site_selector.value else 'All Sites'\n",
    "        categories_used = ','.join(category_selector.value) if category_selector.value else 'All Categories'\n",
    "        fuels_used = ','.join(fuel_selector.value) if fuel_selector.value else 'All Fuel Types'\n",
    "        \n",
    "        month_nums = sorted(month_selector.value)\n",
    "        month_names = [datetime(2000, m, 1).strftime('%b') for m in month_nums]\n",
    "        if len(month_nums)> 1 and all(b - a == 1 for a,b in zip(month_nums[:-1], month_nums[1:])):\n",
    "            months_used = f\"{month_names[0]}-{month_names[-1]}\"\n",
    "        else:\n",
    "            months_used = ','.join(month_names)\n",
    "        \n",
    "    \n",
    "        if overlay_checkbox.value and hist_years_selected:\n",
    "            sorted_years = sorted(hist_years_selected)\n",
    "            if len(sorted_years) > 1 and all(b - a == 1 for a, b in zip(sorted_years[:1], sorted_years[1:])):\n",
    "                hist_range = f\"{sorted_years[0]}-{sorted_years[-1]}\"\n",
    "            else:\n",
    "                hist_range = ','.join(map(str, sorted_years))\n",
    "            years_used = f\"{current_year.value} + Hist ({hist_range})\"\n",
    "        else:\n",
    "            years_used = f\"{current_year.value}\"\n",
    "    \n",
    "        filter_text = f\"Filters: {site_names} | {categories_used} | {fuels_used} | Month: {months_used} | Years: {years_used}\"\n",
    "        \n",
    "        for ax, cat in zip(axes, categories):\n",
    "            color = color_map[cat]\n",
    "            cur = cur_summary[cur_summary['Category'] == cat]\n",
    "            ax.plot(cur['AlignDate'], cur['Current'], marker='o', linestyle='-', label=f\"{current_year.value} Current\", color=color)\n",
    "            \n",
    "            if overlay_checkbox.value and not hist_stats.empty:\n",
    "                hist = hist_stats[hist_stats['Category'] == cat]\n",
    "                if 'SingleYear' in hist.columns:\n",
    "                    ax.plot(hist['AlignDate'], hist['Singleyear'], markers='s', linestyle='--', color='purple', label=f\"Hist{hsit_years_selected[0]}\")\n",
    "                else:\n",
    "                    ax.plot(hist['AlignDate'], hist['Avg'], marker='s', linestyle='--', label=\"Hist Avg\", color='gray', alpha=0.7)\n",
    "                    ax.plot(hist['AlignDate'], hist['Min'], linestyle=':', color='red', label='Min')\n",
    "                    ax.plot(hist['AlignDate'], hist['Max'], linestyle=':', color='green', label='Max')\n",
    "            \n",
    "            ax.set_title(f\"{cat} - Bi-Monthly Comparison\\n{filter_text}\")\n",
    "            ax.set_ylabel(\"Sample Avg Value\")\n",
    "            ax.grid(True)\n",
    "            ax.legend()\n",
    "            \n",
    "        axes[-1].set_xticks(month_ticks)\n",
    "        axes[-1].set_xticklabels([d.strftime('%b') for d in month_ticks], rotation=0)    \n",
    "        \n",
    "        min_month = min(month_selector.value)\n",
    "        max_month = max(month_selector.value)\n",
    "        start_date = datetime(2000, min_month, 1)\n",
    "        end_date = datetime(2000, max_month, 28 if max_month == 2 else 30)\n",
    "        \n",
    "        for ax in axes:\n",
    "            ax.set_xlim(start_date, end_date)\n",
    "        \n",
    "        plt.xlabel(\"Month\")\n",
    "        plt.tight_layout()\n",
    "        plt.show()\n",
    "        \n",
    "        df_to_export = filtered_df.copy()\n",
    "        last_fig = fig\n",
    "   \n"
   ]
  },
  {
   "cell_type": "code",
   "execution_count": 17,
   "id": "22833f59",
   "metadata": {
    "scrolled": true
   },
   "outputs": [],
   "source": [
    " \n",
    "    def export_filtered_data(b):\n",
    "        global df_to_export\n",
    "        with output:\n",
    "            if df_to_export is not None:\n",
    "                df_to_export.to_csv(\"Filtered_Fuel_Data.csv\", index=False)\n",
    "                print(\"Data exported to 'Filtered_Fuels_Data.csv'\")\n",
    "            else:\n",
    "                print(\"No data to export.\")\n",
    "        \n",
    "    def export_chart_pdf(b):\n",
    "        global last_fig\n",
    "        with output:\n",
    "            if last_fig:\n",
    "                pdf = matplotlib.backends.backend_pdf.PdfPages (\"Fuel_Sample_Chart.pdf\")\n",
    "                pdf.savefig(last_fig)\n",
    "                pdf.close()\n",
    "                print(\"Chart exported to 'Fuel_Sample_Chart.pdf'\")\n",
    "            else:\n",
    "                print(\"No chart to export.\")\n",
    "                \n",
    "    def export_chart_png(b):\n",
    "        print(\"PNG export triggered\")\n",
    "        global last_fig\n",
    "        with output:\n",
    "            if last_fig:\n",
    "                last_fig.savefig(\"Fuel_Sample_Chart.png\", dpi=300)\n",
    "                print(\"Chart exported to 'Fuel_Sample_Chart.png'\")\n",
    "            else:\n",
    "                print(\"No chart to export.\")\n",
    "        \n",
    "    "
   ]
  },
  {
   "cell_type": "code",
   "execution_count": 18,
   "id": "17ebdb2e",
   "metadata": {},
   "outputs": [],
   "source": [
    "for w in [site_selector, category_selector, fuel_selector, current_year, history_years, overlay_checkbox, month_selector]:\n",
    "    w.observe(update_dashboard, names='value')\n",
    "    \n",
    "export_button.on_click(export_filtered_data)\n",
    "pdf_button.on_click(export_chart_pdf)\n",
    "png_button.on_click(export_chart_png)"
   ]
  },
  {
   "cell_type": "code",
   "execution_count": 19,
   "id": "3512f26c",
   "metadata": {
    "scrolled": true
   },
   "outputs": [
    {
     "name": "stdout",
     "output_type": "stream",
     "text": [
      "Field Sample dashboard ready.\n"
     ]
    },
    {
     "data": {
      "application/vnd.jupyter.widget-view+json": {
       "model_id": "c2234df62b244984917abd0bce81d5b1",
       "version_major": 2,
       "version_minor": 0
      },
      "text/plain": [
       "HBox(children=(SelectMultiple(description='Sites:', layout=Layout(width='50%'), options=('1', '12 Rd @ 54 Rd',…"
      ]
     },
     "metadata": {},
     "output_type": "display_data"
    },
    {
     "data": {
      "application/vnd.jupyter.widget-view+json": {
       "model_id": "6569c6591ae544818c5ac5869b8028fe",
       "version_major": 2,
       "version_minor": 0
      },
      "text/plain": [
       "HBox(children=(Dropdown(description='Current Year:', options=(2025, 2024, 2023, 2022, 2021, 2020, 2019, 2018, …"
      ]
     },
     "metadata": {},
     "output_type": "display_data"
    },
    {
     "data": {
      "application/vnd.jupyter.widget-view+json": {
       "model_id": "9ec4540faa1c4c5ab64f48f709219126",
       "version_major": 2,
       "version_minor": 0
      },
      "text/plain": [
       "HBox(children=(SelectMultiple(description='Months:', index=(0, 1, 2, 3, 4, 5, 6, 7, 8, 9, 10, 11), options=(1,…"
      ]
     },
     "metadata": {},
     "output_type": "display_data"
    },
    {
     "data": {
      "application/vnd.jupyter.widget-view+json": {
       "model_id": "c881072025444346b69ef468c43a31c0",
       "version_major": 2,
       "version_minor": 0
      },
      "text/plain": [
       "HBox(children=(Button(button_style='success', description='Export CSV', style=ButtonStyle()), Button(button_st…"
      ]
     },
     "metadata": {},
     "output_type": "display_data"
    },
    {
     "data": {
      "application/vnd.jupyter.widget-view+json": {
       "model_id": "50eac946f4a644ed9d4d69ec13562f43",
       "version_major": 2,
       "version_minor": 0
      },
      "text/plain": [
       "Output()"
      ]
     },
     "metadata": {},
     "output_type": "display_data"
    }
   ],
   "source": [
    "print(\"Field Sample dashboard ready.\")\n",
    "display (widgets.HBox([site_selector, category_selector, fuel_selector]))\n",
    "display(widgets.HBox([current_year, history_years, overlay_checkbox]))\n",
    "display(widgets.HBox([month_selector]))\n",
    "display(widgets.HBox([export_button, pdf_button, png_button]))\n",
    "display(output)\n",
    "\n",
    "update_dashboard()"
   ]
  },
  {
   "cell_type": "code",
   "execution_count": null,
   "id": "95813a6f",
   "metadata": {},
   "outputs": [],
   "source": []
  }
 ],
 "metadata": {
  "kernelspec": {
   "display_name": "Python 3 (ipykernel)",
   "language": "python",
   "name": "python3"
  },
  "language_info": {
   "codemirror_mode": {
    "name": "ipython",
    "version": 3
   },
   "file_extension": ".py",
   "mimetype": "text/x-python",
   "name": "python",
   "nbconvert_exporter": "python",
   "pygments_lexer": "ipython3",
   "version": "3.11.5"
  }
 },
 "nbformat": 4,
 "nbformat_minor": 5
}
